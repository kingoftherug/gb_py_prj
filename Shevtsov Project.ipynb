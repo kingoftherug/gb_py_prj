{
 "cells": [
  {
   "cell_type": "code",
   "execution_count": 2,
   "id": "0f0b61ea",
   "metadata": {},
   "outputs": [],
   "source": [
    "import numpy as np\n",
    "import pandas as pd\n",
    "\n",
    "from scipy.stats import mode\n",
    "\n",
    "import warnings\n",
    "warnings.filterwarnings('ignore')"
   ]
  },
  {
   "cell_type": "code",
   "execution_count": null,
   "id": "35079957",
   "metadata": {},
   "outputs": [],
   "source": [
    "DATASET_PATH = '/Users/shevtsov/Documents/Pers/gb/Библиотеки Python для Data Science/lesson 3/housing.csv'\n",
    "PREPARED_DATASET_PATH = '/Users/shevtsov/Documents/Pers/gb/Библиотеки Python для Data Science/lesson 3/housing_prepared.csv'"
   ]
  }
 ],
 "metadata": {
  "kernelspec": {
   "display_name": "Python 3 (ipykernel)",
   "language": "python",
   "name": "python3"
  },
  "language_info": {
   "codemirror_mode": {
    "name": "ipython",
    "version": 3
   },
   "file_extension": ".py",
   "mimetype": "text/x-python",
   "name": "python",
   "nbconvert_exporter": "python",
   "pygments_lexer": "ipython3",
   "version": "3.9.13"
  }
 },
 "nbformat": 4,
 "nbformat_minor": 5
}
